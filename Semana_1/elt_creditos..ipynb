{
 "cells": [
  {
   "cell_type": "markdown",
   "id": "35fe0954",
   "metadata": {},
   "source": [
    "ELT en big Data con PySapark\n",
    "\n",
    "Simula el procedimiento de solicitudes de crédito bancario oa gran escala.\n",
    "\n",
    "Fases:\n",
    "\n",
    "E - Extract: Generar datos sintéticos realistas (4M filas)\n",
    "\n",
    "T - Transform: Aplicar reglas de negocio (Scoring, flags, limpieza)\n",
    "\n",
    "L - Load: Guarda los datos como Parquet, particionando por fecha y tipo de crédito"
   ]
  },
  {
   "cell_type": "code",
   "execution_count": 1,
   "id": "8e1af789",
   "metadata": {},
   "outputs": [
    {
     "name": "stdout",
     "output_type": "stream",
     "text": [
      "SPARK_HOME: C:\\Spark\\spark-3.5.4-bin-hadoop3\n",
      "JAVA_HOME: C:\\Java\\jdk1.8.0_202\n",
      "PySpark version: 3.5.4\n"
     ]
    }
   ],
   "source": [
    "from pyspark.sql import SparkSession\n",
    "from pyspark.sql.functions import col, when, rand, round, lit\n",
    "from datetime import datetime\n",
    "import os\n",
    "print(\"SPARK_HOME:\", os.environ.get(\"SPARK_HOME\"))\n",
    "print(\"JAVA_HOME:\", os.environ.get(\"JAVA_HOME\"))\n",
    "\n",
    "import pyspark\n",
    "print(\"PySpark version:\", pyspark.__version__)"
   ]
  },
  {
   "cell_type": "code",
   "execution_count": 2,
   "id": "aa7b1ce2",
   "metadata": {},
   "outputs": [],
   "source": [
    "# -------------------------\n",
    "# configuración\n",
    "# -------------------------\n",
    "\n",
    "# Número de filas a generar\n",
    "N_ROWS = 4_000_000\n",
    "\n",
    "# Fecha de carga de lote\n",
    "FECHA_CARGA = datetime.today().strftime(\"%Y-%m-%d\")\n",
    "\n",
    "# Ruta de salida de los datos sintéticos\n",
    "OUTPUT_DIR = \"../datos_sinteticos/creditos_bancarios\""
   ]
  },
  {
   "cell_type": "code",
   "execution_count": 3,
   "id": "d7635200",
   "metadata": {},
   "outputs": [
    {
     "name": "stdout",
     "output_type": "stream",
     "text": [
      "Sesión Spark iniciada\n"
     ]
    }
   ],
   "source": [
    "# -------------------------\n",
    "# Crear sesión Spark\n",
    "# -------------------------\n",
    "\n",
    "import os\n",
    "os.environ.pop(\"SPARK_HOME\", None)   # evitar conflicto con Spark local\n",
    "os.environ[\"JAVA_HOME\"] = \"C:/Java/jdk1.8.0_202\"\n",
    "\n",
    "spark = SparkSession.builder \\\n",
    "    .appName (\"ELT_Creditos_Bancarios\") \\\n",
    "    .master(\"local[*]\") \\\n",
    "    .config(\"spark.ui.showConsoleProgress\", \"false\") \\\n",
    "    .getOrCreate()\n",
    "\n",
    "print(\"Sesión Spark iniciada\")"
   ]
  }
 ],
 "metadata": {
  "kernelspec": {
   "display_name": "venv_big_data",
   "language": "python",
   "name": "python3"
  },
  "language_info": {
   "codemirror_mode": {
    "name": "ipython",
    "version": 3
   },
   "file_extension": ".py",
   "mimetype": "text/x-python",
   "name": "python",
   "nbconvert_exporter": "python",
   "pygments_lexer": "ipython3",
   "version": "3.11.8"
  }
 },
 "nbformat": 4,
 "nbformat_minor": 5
}
